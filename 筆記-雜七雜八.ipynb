{
 "cells": [
  {
   "cell_type": "markdown",
   "metadata": {},
   "source": [
    "# CPU\n",
    "* 不要用 CPU train DL\n",
    "* xgboost 等請限制 thread 數量，或改用 GPU\n",
    "* jobs/worker/process 不要開太多(開了以後看一下 top 別持續高於800%)"
   ]
  },
  {
   "cell_type": "markdown",
   "metadata": {},
   "source": [
    "# HDD/SSD\n",
    "大型檔案請放在HDD  \n",
    "要跑的再搬到SSD(注意下大小，別把SSD塞爆)  "
   ]
  },
  {
   "cell_type": "markdown",
   "metadata": {},
   "source": [
    "# GPU\n",
    "* 指定 GPU 前先確認有沒有別人在用\n",
    "* 沒有要用請釋放顯存(shutdown)\n",
    "* 正常關閉 subprocess ，避免 GPU 無法正常釋放  \n",
    "* 盡量提高 GPU 計算力使用率(減少 load data 的等待時間)\n",
    "* 指定要使用的 GPU ID\n",
    "```python\n",
    "import os\n",
    "os.environ[\"CUDA_VISIBLE_DEVICES\"] = \"5,6\"\n",
    "```\n",
    "或\n",
    "```\n",
    "CUDA_VISIBLE_DEVICES=5,6 python3 run.py\n",
    "```\n",
    "* 不須要整顆顯存的話，可以拿少一點\n",
    "\n",
    "```python\n",
    "import tensorflow as tf\n",
    "from keras.backend.tensorflow_backend import set_session\n",
    "\n",
    "config = tf.ConfigProto()\n",
    "config.gpu_options.per_process_gpu_memory_fraction = 0.4\n",
    "set_session(tf.Session(config=config))\n",
    "```"
   ]
  },
  {
   "cell_type": "markdown",
   "metadata": {},
   "source": [
    "# IO\n",
    "* 請檢查是否有非必要的大量 IO (重複讀取/過度保存)\n",
    "    * 例如 epoch 超短，又每個 epoch 都存 model"
   ]
  },
  {
   "cell_type": "markdown",
   "metadata": {},
   "source": [
    "# multi thread/process\n",
    "因為 CPython 的 multithread 有 GIL  \n",
    "所以實際上只會有一個 thread 在做計算  \n",
    "無法增加計算力\n",
    "\n",
    "* multithread\n",
    "    * 成本較低\n",
    "    * 較安全\n",
    "    * 不會增加算力\n",
    "    * thread 間溝通較簡單\n",
    "    * 適用於 IO 密集（開檔案等）\n",
    "* multiprocess\n",
    "    * 成本較高\n",
    "    * 相對危險\n",
    "    * 可以增加算力\n",
    "    * process 間溝通較麻煩\n",
    "    * 適用於 CPU 密集（大量即時計算、查找）\n"
   ]
  },
  {
   "cell_type": "markdown",
   "metadata": {},
   "source": [
    "# 常用指令\n",
    "* nvidia-smi  顯示 GPU 狀況(計算力/顯存使用率等)  \n",
    "* ps -u -p {pid} 查 preocess 是誰的  \n",
    "* du -h {dir} 查詢 dir 下的空間使用狀況  \n",
    "* kill {pid}  強制結束 process  \n",
    "* top  \n",
    "* htop  \n",
    "  "
   ]
  },
  {
   "cell_type": "markdown",
   "metadata": {},
   "source": [
    "# jupyter notebook\n",
    "\n",
    "## 由process id 找對應的notebook\n",
    "ps 或 htop 等找到對應的 command  \n",
    "如 /usr/bin/python3 -m ipykernel_launcher -f /run/user/1002/jupyter/kernel-54399708-5c8b-4aa4-bc8e-6b7c84a  \n",
    "取 54399708-5c8b-4aa4-bc8e-6b7c84a (id) 的部分  \n",
    "\n",
    "到 xxx.xxx.xx.xx:xxxx/api/sessions  \n",
    "找到對應 id 的 session  \n",
    "path 即為對應的 notebook  \n",
    "\n",
    "## shutdown\n",
    "原理跟直接點 shutdown 一樣\n",
    "```\n",
    "%%javascript\n",
    "Jupyter.notebook.session.delete();\n",
    "```"
   ]
  },
  {
   "cell_type": "markdown",
   "metadata": {},
   "source": [
    "# package\n",
    "\n",
    "## no moudle name xxxxxx\n",
    "* 檢查是python2還python3\n",
    "* 是否為環境問題\n",
    "* 檢查sys.path(可能被蓋掉了，如anaconda)\n",
    "    * 可於 ~/.bashrc 加入 export PYTHONPATH=/path/to/packages\n",
    "    * conda env 中開 jupyter, 可能無法正常 import 在env conda install 的 package, 可在 env 中 conda install jupyter 解決\n",
    "\n",
    "\n",
    "## import matplotlib.pyplot error\n",
    "可能是沒有對應的 backend  \n",
    "換個試試 （再沒有就乖乖裝 backend 吧）\n",
    "\n",
    "```python\n",
    "import matplotlib  \n",
    "matplotlib.use('Agg')  \n",
    "import matplotlib.pyplot as plt  \n",
    "```"
   ]
  },
  {
   "cell_type": "markdown",
   "metadata": {
    "collapsed": true
   },
   "source": [
    "# SSH\n",
    "\n",
    "## 太久沒通訊斷線\n",
    "* putty：可設定 Connection -> seconds between keepalives 為 300\n",
    "* 一般SSH：ServerAliveInterval = 300\n",
    "\n",
    "## 避免 SSH 斷掉，程式跑到一半掛掉\n",
    "用 screen/tmux 之類的吧  \n",
    "別每次都新開啊啊啊啊\n",
    "\n",
    "### screen\n",
    "* screen 進入\n",
    "* screen -r 恢復\n",
    "* ctrl+a d 離開\n",
    "\n",
    "## display\n",
    "```bash\n",
    "ssh -X catding@theta1\n",
    "```\n",
    "如有錯誤，可先用\n",
    "```bash\n",
    "xeyes\n",
    "```\n",
    "檢查是 display 本身的問題，還是程式有問題\n",
    "\n",
    "* window:裝 Xming\n",
    "* mac:直接執行指令，不行的話裝 Xquartz\n",
    "* linux:直接執行指令"
   ]
  },
  {
   "cell_type": "markdown",
   "metadata": {
    "collapsed": true
   },
   "source": [
    "# image\n",
    "\n",
    "## channel order\n",
    "* RGB\n",
    "    * plt\n",
    "    * PIL.Image\n",
    "* BGR\n",
    "    * cv2\n",
    "\n",
    "## change channel order\n",
    "```python\n",
    "# 超快\n",
    "img[:, :, ::-1]\n",
    "\n",
    "# 慢\n",
    "cv2.cvtColor(img, cv2.COLOR_BGR2RGB)\n",
    "```\n",
    "\n",
    "## read img to numpy array\n",
    "cv2 最快\n",
    "\n",
    "## jpeg\n",
    "cv2 和 PIL/plt 的解壓算法疑似不同  \n",
    "會得到不同結果\n",
    "\n"
   ]
  },
  {
   "cell_type": "markdown",
   "metadata": {},
   "source": [
    "# time series feature extraction\n",
    "* tsfresh\n",
    "    * 會 extrac 出 1400 多個 feature\n",
    "    * 內部用 pandas 實現，所以有點慢\n",
    "    * 一段 time series 切太長會炸掉 memory"
   ]
  },
  {
   "cell_type": "markdown",
   "metadata": {
    "collapsed": true
   },
   "source": [
    "# Youtube\n",
    "\n",
    "## download youtube video\n",
    "推薦 pytube，不過改版的有點頻繁  \n",
    "小心 doc 內容不一定是最新下載版的（doc會超前...）\n",
    "\n",
    "## YouTube Data API v3\n",
    "\n",
    "### quota\n",
    "每專案每日1,000,000，16：00回覆  \n",
    "quota 消耗可由此查詢 https://developers.google.com/youtube/v3/determine_quota_cost\n",
    "* search 100/次\n",
    "* video info 1~16/次 （視選擇的部分而定）\n",
    "\n",
    "### api example\n",
    "* https://www.googleapis.com/youtube/v3/videos?part=snippet&id={videoId}&key={key}\n",
    "* https://www.googleapis.com/youtube/v3/search?part=snippet&q={key_word}&maxResults=25&order=viewCount&type=video&key={key}"
   ]
  },
  {
   "cell_type": "markdown",
   "metadata": {
    "collapsed": true
   },
   "source": [
    "# nvidia-docker\n",
    "\n",
    "## 開啟\n",
    "```bash\n",
    "NV_GPU=6,7 nvidia-docker run -p 6688:8888 gcr.io/tensorflow/tensorflow:1.3.0-gpu-py3\n",
    "```\n",
    "\n",
    "## Got permission denied while trying to connect to the Docker daemon ......\n",
    "要加入 docker group"
   ]
  },
  {
   "cell_type": "code",
   "execution_count": null,
   "metadata": {
    "collapsed": true
   },
   "outputs": [],
   "source": []
  }
 ],
 "metadata": {
  "kernelspec": {
   "display_name": "Python 3",
   "language": "python",
   "name": "python3"
  },
  "language_info": {
   "codemirror_mode": {
    "name": "ipython",
    "version": 3
   },
   "file_extension": ".py",
   "mimetype": "text/x-python",
   "name": "python",
   "nbconvert_exporter": "python",
   "pygments_lexer": "ipython3",
   "version": "3.5.2"
  }
 },
 "nbformat": 4,
 "nbformat_minor": 2
}
