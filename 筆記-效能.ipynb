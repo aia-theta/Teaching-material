{
 "cells": [
  {
   "cell_type": "code",
   "execution_count": 1,
   "metadata": {
    "collapsed": true
   },
   "outputs": [],
   "source": [
    "import time"
   ]
  },
  {
   "cell_type": "markdown",
   "metadata": {},
   "source": [
    "# 原則性的東西(?)"
   ]
  },
  {
   "cell_type": "code",
   "execution_count": null,
   "metadata": {
    "collapsed": true
   },
   "outputs": [],
   "source": [
    "* 檢查時間消耗是否非等比增長"
   ]
  },
  {
   "cell_type": "markdown",
   "metadata": {},
   "source": [
    "# numpy"
   ]
  },
  {
   "cell_type": "code",
   "execution_count": 1,
   "metadata": {
    "collapsed": true
   },
   "outputs": [],
   "source": [
    "import numpy as np"
   ]
  },
  {
   "cell_type": "markdown",
   "metadata": {},
   "source": [
    "## concat numpy arrays\n",
    "每次 concat 都會創建一個新的 numpy array  \n",
    "所以先丟 list 再一次轉 numpy array 會比較快"
   ]
  },
  {
   "cell_type": "code",
   "execution_count": 21,
   "metadata": {},
   "outputs": [
    {
     "name": "stdout",
     "output_type": "stream",
     "text": [
      "2.527719259262085\n"
     ]
    }
   ],
   "source": [
    "start = time.time()\n",
    "\n",
    "r = None\n",
    "for i in range(400):\n",
    "    arr = np.random.rand(1, 128, 128)\n",
    "    if r is None:\n",
    "        r = arr\n",
    "    else:\n",
    "        r = np.concatenate((r, arr))\n",
    "        \n",
    "print(time.time()-start)"
   ]
  },
  {
   "cell_type": "code",
   "execution_count": 23,
   "metadata": {},
   "outputs": [
    {
     "name": "stdout",
     "output_type": "stream",
     "text": [
      "0.15652799606323242\n"
     ]
    }
   ],
   "source": [
    "start = time.time()\n",
    "\n",
    "r = []\n",
    "for i in range(400):\n",
    "    arr = np.random.rand(128, 128)\n",
    "    r.append(arr)\n",
    "r = np.array(r)\n",
    "print(time.time()-start)"
   ]
  },
  {
   "cell_type": "code",
   "execution_count": null,
   "metadata": {
    "collapsed": true
   },
   "outputs": [],
   "source": []
  },
  {
   "cell_type": "markdown",
   "metadata": {},
   "source": [
    "# pandas"
   ]
  },
  {
   "cell_type": "code",
   "execution_count": 2,
   "metadata": {
    "collapsed": true
   },
   "outputs": [],
   "source": [
    "import pandas as pd"
   ]
  },
  {
   "cell_type": "markdown",
   "metadata": {},
   "source": [
    "## create big dataframe (> 20GB)\n",
    "\n",
    "dataframe 太大的話  \n",
    "一次創建好會比較快"
   ]
  },
  {
   "cell_type": "markdown",
   "metadata": {},
   "source": [
    "請 restart 後測試  \n",
    "讓程序重新要 memory"
   ]
  },
  {
   "cell_type": "code",
   "execution_count": 3,
   "metadata": {
    "collapsed": true
   },
   "outputs": [],
   "source": [
    "cols_num = 500"
   ]
  },
  {
   "cell_type": "code",
   "execution_count": 4,
   "metadata": {},
   "outputs": [
    {
     "name": "stdout",
     "output_type": "stream",
     "text": [
      "477.7117049694061\n"
     ]
    }
   ],
   "source": [
    "start = time.time()\n",
    "\n",
    "data= list(range(10000000))\n",
    "df = pd.DataFrame()\n",
    "df[0] = data \n",
    "for i in range(cols_num):\n",
    "    df[i+1] = df[0]\n",
    "    \n",
    "print(time.time()-start)"
   ]
  },
  {
   "cell_type": "code",
   "execution_count": 4,
   "metadata": {},
   "outputs": [
    {
     "name": "stdout",
     "output_type": "stream",
     "text": [
      "145.22755455970764\n"
     ]
    }
   ],
   "source": [
    "start = time.time()\n",
    "\n",
    "data= list(range(10000000))\n",
    "df = pd.DataFrame(0, columns=list(range(cols_num+1)), index=list(range(10000000)))\n",
    "\n",
    "df[0] = data\n",
    "for i in range(cols_num):\n",
    "    df[i+1] = df[0]\n",
    "    \n",
    "print(time.time()-start)"
   ]
  },
  {
   "cell_type": "code",
   "execution_count": 5,
   "metadata": {},
   "outputs": [
    {
     "name": "stdout",
     "output_type": "stream",
     "text": [
      "<class 'pandas.core.frame.DataFrame'>\n",
      "Int64Index: 10000000 entries, 0 to 9999999\n",
      "Columns: 501 entries, 0 to 500\n",
      "dtypes: int64(501)\n",
      "memory usage: 37.4 GB\n"
     ]
    }
   ],
   "source": [
    "df.info()"
   ]
  },
  {
   "cell_type": "markdown",
   "metadata": {},
   "source": [
    "## calc with cols\n",
    "轉 numpy 算會比較快  "
   ]
  },
  {
   "cell_type": "code",
   "execution_count": 11,
   "metadata": {
    "collapsed": true
   },
   "outputs": [],
   "source": [
    "data= list(range(1000000))\n",
    "df = pd.DataFrame()\n",
    "df[0] = data \n",
    "for i in range(200):\n",
    "    df[i+1] = df[0]+1\n",
    "df['r'] = 0"
   ]
  },
  {
   "cell_type": "code",
   "execution_count": 12,
   "metadata": {},
   "outputs": [
    {
     "name": "stdout",
     "output_type": "stream",
     "text": [
      "0.7590723037719727\n"
     ]
    }
   ],
   "source": [
    "start = time.time()    \n",
    "\n",
    "for i in range(200):\n",
    "    df['r'] += df[i]\n",
    "\n",
    "print(time.time()-start)"
   ]
  },
  {
   "cell_type": "code",
   "execution_count": 13,
   "metadata": {},
   "outputs": [
    {
     "name": "stdout",
     "output_type": "stream",
     "text": [
      "0.27349090576171875\n"
     ]
    }
   ],
   "source": [
    "start = time.time()    \n",
    "tmp = df['r'].values\n",
    "for i in range(200):\n",
    "    tmp += df[i].values\n",
    "df['r'] = tmp\n",
    "print(time.time()-start)"
   ]
  },
  {
   "cell_type": "markdown",
   "metadata": {
    "collapsed": true
   },
   "source": [
    "## search - object column\n",
    "set index"
   ]
  },
  {
   "cell_type": "code",
   "execution_count": 20,
   "metadata": {
    "collapsed": true
   },
   "outputs": [],
   "source": [
    "df = pd.DataFrame([str(i) for i in range(1000000)])"
   ]
  },
  {
   "cell_type": "code",
   "execution_count": 21,
   "metadata": {},
   "outputs": [
    {
     "name": "stdout",
     "output_type": "stream",
     "text": [
      "5.9111175537109375\n"
     ]
    }
   ],
   "source": [
    "start = time.time()\n",
    "for i in range(100):\n",
    "    df[df[0]=='656566']\n",
    "print(time.time()-start)"
   ]
  },
  {
   "cell_type": "code",
   "execution_count": 22,
   "metadata": {},
   "outputs": [
    {
     "name": "stdout",
     "output_type": "stream",
     "text": [
      "0.3315901756286621\n"
     ]
    }
   ],
   "source": [
    "df = df.set_index(0)\n",
    "\n",
    "start = time.time()\n",
    "for i in range(100):\n",
    "    df.loc['656566']\n",
    "print(time.time()-start)"
   ]
  },
  {
   "cell_type": "markdown",
   "metadata": {},
   "source": [
    "## search - object column - not unique\n",
    "如果都是用某 col 來 search  "
   ]
  },
  {
   "cell_type": "code",
   "execution_count": 28,
   "metadata": {
    "collapsed": true
   },
   "outputs": [],
   "source": [
    "df = pd.DataFrame([str(j) for i in range(200) for j in range(10000)])"
   ]
  },
  {
   "cell_type": "code",
   "execution_count": 29,
   "metadata": {},
   "outputs": [
    {
     "name": "stdout",
     "output_type": "stream",
     "text": [
      "12.99216604232788\n"
     ]
    }
   ],
   "source": [
    "start = time.time()\n",
    "for i in range(100):\n",
    "    df[df[0]=='6566']\n",
    "print(time.time()-start)"
   ]
  },
  {
   "cell_type": "code",
   "execution_count": 30,
   "metadata": {},
   "outputs": [
    {
     "name": "stdout",
     "output_type": "stream",
     "text": [
      "4.031608581542969\n"
     ]
    }
   ],
   "source": [
    "df = df.set_index(0)\n",
    "\n",
    "start = time.time()\n",
    "for i in range(100):\n",
    "    df.loc['6566']\n",
    "print(time.time()-start)"
   ]
  },
  {
   "cell_type": "code",
   "execution_count": 31,
   "metadata": {},
   "outputs": [
    {
     "name": "stdout",
     "output_type": "stream",
     "text": [
      "9.489059448242188e-05\n"
     ]
    }
   ],
   "source": [
    "df_dict = {key:sub_df for key, sub_df in df.groupby(0)}\n",
    "\n",
    "start = time.time()\n",
    "for i in range(100):\n",
    "    df_dict['6566']\n",
    "print(time.time()-start)"
   ]
  },
  {
   "cell_type": "code",
   "execution_count": null,
   "metadata": {
    "collapsed": true
   },
   "outputs": [],
   "source": []
  }
 ],
 "metadata": {
  "kernelspec": {
   "display_name": "Python 3",
   "language": "python",
   "name": "python3"
  },
  "language_info": {
   "codemirror_mode": {
    "name": "ipython",
    "version": 3
   },
   "file_extension": ".py",
   "mimetype": "text/x-python",
   "name": "python",
   "nbconvert_exporter": "python",
   "pygments_lexer": "ipython3",
   "version": "3.5.2"
  }
 },
 "nbformat": 4,
 "nbformat_minor": 2
}
